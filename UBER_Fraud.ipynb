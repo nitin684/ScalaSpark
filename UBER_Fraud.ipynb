{
 "cells": [
  {
   "cell_type": "code",
   "execution_count": 1,
   "metadata": {},
   "outputs": [
    {
     "data": {
      "text/plain": [
       "Intitializing Scala interpreter ..."
      ]
     },
     "metadata": {},
     "output_type": "display_data"
    },
    {
     "data": {
      "text/plain": [
       "Spark Web UI available at http://FireBall:4041\n",
       "SparkContext available as 'sc' (version = 2.4.0, master = local[*], app id = local-1549046823366)\n",
       "SparkSession available as 'spark'\n"
      ]
     },
     "metadata": {},
     "output_type": "display_data"
    },
    {
     "data": {
      "text/plain": [
       "import org.apache.spark.ml.Pipeline\r\n",
       "import org.apache.spark.ml.feature.{VectorAssembler, OneHotEncoderEstimator, IndexToString, StringIndexer, VectorIndexer}\r\n",
       "import org.apache.spark.ml.linalg.Vectors\n"
      ]
     },
     "execution_count": 1,
     "metadata": {},
     "output_type": "execute_result"
    }
   ],
   "source": [
    "// Import the required dependencies\n",
    "import org.apache.spark.ml.Pipeline\n",
    "import org.apache.spark.ml.feature.{VectorAssembler, OneHotEncoderEstimator, IndexToString, StringIndexer, VectorIndexer}\n",
    "import org.apache.spark.ml.linalg.Vectors"
   ]
  },
  {
   "cell_type": "code",
   "execution_count": 2,
   "metadata": {},
   "outputs": [
    {
     "data": {
      "text/plain": [
       "UBER_dataset: org.apache.spark.sql.DataFrame = [user_id: string, firstname: string ... 29 more fields]\n"
      ]
     },
     "execution_count": 2,
     "metadata": {},
     "output_type": "execute_result"
    }
   ],
   "source": [
    "val UBER_dataset = spark.read.option(\"header\",\"true\")\n",
    "                             .option(\"inferSchema\",\"true\")\n",
    "                             .csv(\"file:///C:/Users/FireBall/Downloads/SCALA_SPARK/Dataset/Uber-dataset/Uber-data.csv\")"
   ]
  },
  {
   "cell_type": "code",
   "execution_count": 3,
   "metadata": {},
   "outputs": [
    {
     "name": "stdout",
     "output_type": "stream",
     "text": [
      "2019-02-02 00:21:14 WARN  Utils:66 - Truncated the string representation of a plan since it was too large. This behavior can be adjusted by setting 'spark.debug.maxToStringFields' in SparkEnv.conf.\r\n"
     ]
    },
    {
     "data": {
      "text/plain": [
       "res0: Long = 8676\n"
      ]
     },
     "execution_count": 3,
     "metadata": {},
     "output_type": "execute_result"
    }
   ],
   "source": [
    "UBER_dataset.count()"
   ]
  },
  {
   "cell_type": "code",
   "execution_count": 4,
   "metadata": {},
   "outputs": [
    {
     "name": "stdout",
     "output_type": "stream",
     "text": [
      "root\n",
      " |-- user_id: string (nullable = true)\n",
      " |-- firstname: string (nullable = true)\n",
      " |-- lastname: string (nullable = true)\n",
      " |-- email: string (nullable = true)\n",
      " |-- country_id: integer (nullable = true)\n",
      " |-- mobile_country_id: integer (nullable = true)\n",
      " |-- mobile: string (nullable = true)\n",
      " |-- banned: boolean (nullable = true)\n",
      " |-- rating: string (nullable = true)\n",
      " |-- is_uber_email: boolean (nullable = true)\n",
      " |-- inviter_uuid: string (nullable = true)\n",
      " |-- card_flag: boolean (nullable = true)\n",
      " |-- signup_timestamp: string (nullable = true)\n",
      " |-- update_timestamp: string (nullable = true)\n",
      " |-- uncleared_bills: boolean (nullable = true)\n",
      " |-- has_promo: boolean (nullable = true)\n",
      " |-- is_referral: boolean (nullable = true)\n",
      " |-- new_signup_lat: double (nullable = true)\n",
      " |-- new_signup_lng: double (nullable = true)\n",
      " |-- signup_city_id: string (nullable = true)\n",
      " |-- signup_form: string (nullable = true)\n",
      " |-- signup_app_version: string (nullable = true)\n",
      " |-- language_id: integer (nullable = true)\n",
      " |-- language: string (nullable = true)\n",
      " |-- has_payment_profile: boolean (nullable = true)\n",
      " |-- first_payment_profile_uuid: string (nullable = true)\n",
      " |-- first_payment_add_timestamp: string (nullable = true)\n",
      " |-- delete_timestamp: string (nullable = true)\n",
      " |-- is_rider: boolean (nullable = true)\n",
      " |-- primary_role: string (nullable = true)\n",
      " |-- secondary_role: string (nullable = true)\n",
      "\n"
     ]
    }
   ],
   "source": [
    "UBER_dataset.printSchema()"
   ]
  },
  {
   "cell_type": "code",
   "execution_count": 6,
   "metadata": {},
   "outputs": [
    {
     "data": {
      "text/plain": [
       "res3: Array[String] = Array(user_id, firstname, lastname, email, country_id, mobile_country_id, mobile, banned, rating, is_uber_email, inviter_uuid, card_flag, signup_timestamp, update_timestamp, uncleared_bills, has_promo, is_referral, new_signup_lat, new_signup_lng, signup_city_id, signup_form, signup_app_version, language_id, language, has_payment_profile, first_payment_profile_uuid, first_payment_add_timestamp, delete_timestamp, is_rider, primary_role, secondary_role)\n"
      ]
     },
     "execution_count": 6,
     "metadata": {},
     "output_type": "execute_result"
    }
   ],
   "source": [
    "UBER_dataset.columns"
   ]
  },
  {
   "cell_type": "code",
   "execution_count": 7,
   "metadata": {},
   "outputs": [
    {
     "name": "stdout",
     "output_type": "stream",
     "text": [
      "+--------+---------+--------+-------------------+----------+-----------------+----------+------+------+-------------+------------+---------+----------------+----------------+---------------+---------+-----------+--------------+--------------+--------------+-----------+------------------+-----------+------------------+-------------------+--------------------------+---------------------------+----------------+--------+------------+--------------+\n",
      "| user_id|firstname|lastname|              email|country_id|mobile_country_id|    mobile|banned|rating|is_uber_email|inviter_uuid|card_flag|signup_timestamp|update_timestamp|uncleared_bills|has_promo|is_referral|new_signup_lat|new_signup_lng|signup_city_id|signup_form|signup_app_version|language_id|          language|has_payment_profile|first_payment_profile_uuid|first_payment_add_timestamp|delete_timestamp|is_rider|primary_role|secondary_role|\n",
      "+--------+---------+--------+-------------------+----------+-----------------+----------+------+------+-------------+------------+---------+----------------+----------------+---------------+---------+-----------+--------------+--------------+--------------+-----------+------------------+-----------+------------------+-------------------+--------------------------+---------------------------+----------------+--------+------------+--------------+\n",
      "|8399238c|       Ff|       H|sdrfgyggg@yahoo.com|         1|              138|9551452286|  true|    \\N|        false|          \\N|    false|27-05-2018 02:56|15-09-2018 08:46|           true|    false|      false|      34.05223|    -118.24368|             6|     iphone|       3.298.10000|         43|Chinese Simplified|               true|                  ed732dd1|           10-08-2018 23:22|              \\N|   false|          \\N|            \\N|\n",
      "|39e1670a| Romarico|  Tongos|  rtongos@gmail.com|         1|                1|5297113646| false|  4.97|        false|          \\N|    false|11-03-2017 00:31|29-08-2018 22:36|          false|    false|      false|      23.01212|     113.81359|             1|     iphone|           3.235.1|          1|           English|               true|                  26c9b785|           11-03-2017 00:33|              \\N|    true|       rider|            \\N|\n",
      "+--------+---------+--------+-------------------+----------+-----------------+----------+------+------+-------------+------------+---------+----------------+----------------+---------------+---------+-----------+--------------+--------------+--------------+-----------+------------------+-----------+------------------+-------------------+--------------------------+---------------------------+----------------+--------+------------+--------------+\n",
      "only showing top 2 rows\n",
      "\n"
     ]
    }
   ],
   "source": [
    "UBER_dataset.show(2)"
   ]
  },
  {
   "cell_type": "code",
   "execution_count": 8,
   "metadata": {},
   "outputs": [
    {
     "data": {
      "text/plain": [
       "res5: Array[org.apache.spark.sql.Row] = Array([8399238c,Ff,H,sdrfgyggg@yahoo.com,1,138,9551452286,true,\\N,false,\\N,false,27-05-2018 02:56,15-09-2018 08:46,true,false,false,34.05223,-118.24368,6,iphone,3.298.10000,43,Chinese Simplified,true,ed732dd1,10-08-2018 23:22,\\N,false,\\N,\\N])\n"
      ]
     },
     "execution_count": 8,
     "metadata": {},
     "output_type": "execute_result"
    }
   ],
   "source": [
    "UBER_dataset.head(1)"
   ]
  },
  {
   "cell_type": "code",
   "execution_count": null,
   "metadata": {},
   "outputs": [],
   "source": []
  }
 ],
 "metadata": {
  "kernelspec": {
   "display_name": "spylon-kernel",
   "language": "scala",
   "name": "spylon-kernel"
  },
  "language_info": {
   "codemirror_mode": "text/x-scala",
   "file_extension": ".scala",
   "help_links": [
    {
     "text": "MetaKernel Magics",
     "url": "https://github.com/calysto/metakernel/blob/master/metakernel/magics/README.md"
    }
   ],
   "mimetype": "text/x-scala",
   "name": "scala",
   "pygments_lexer": "scala",
   "version": "0.4.1"
  }
 },
 "nbformat": 4,
 "nbformat_minor": 2
}
